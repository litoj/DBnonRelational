{
 "cells": [
  {
   "cell_type": "code",
   "execution_count": 1,
   "metadata": {},
   "outputs": [],
   "source": [
    "import psycopg2\n",
    "import time\n",
    "import random"
   ]
  },
  {
   "cell_type": "code",
   "execution_count": 2,
   "metadata": {},
   "outputs": [
    {
     "name": "stdout",
     "output_type": "stream",
     "text": [
      "Connected to database\n"
     ]
    }
   ],
   "source": [
    "\n",
    "try:\n",
    "    conn =  psycopg2.connect(\n",
    "        dbname=\"Sparsity\",\n",
    "        user=\"postgres\",\n",
    "        password=\"\",\n",
    "        host=\"localhost\",\n",
    "        port=\"5432\",\n",
    "    )\n",
    "    cursor = conn.cursor()\n",
    "    print(\"Connected to database\")\n",
    "except Exception as e:\n",
    "    print(\"Error connecting to database\")\n",
    "    print(e)\n"
   ]
  },
  {
   "cell_type": "code",
   "execution_count": 3,
   "metadata": {},
   "outputs": [],
   "source": [
    "def h2v(cursor, table_name, v_table_name):\n",
    "    cursor.execute(f\"DROP TABLE IF EXISTS {v_table_name} CASCADE;\")\n",
    "    cursor.execute(f\"\"\"\n",
    "                CREATE TABLE {v_table_name} (\n",
    "                    oid INTEGER,\n",
    "                    key VARCHAR(50),\n",
    "                    value VARCHAR(50)\n",
    "                );\n",
    "            \"\"\")\n",
    "\n",
    "    cursor.execute(f\"\"\"\n",
    "                SELECT column_name\n",
    "                FROM information_schema.columns\n",
    "                WHERE table_name = '{table_name}' AND column_name != 'oid';\n",
    "                \"\"\")\n",
    "\n",
    "    columns = [row[0] for row in cursor.fetchall()]\n",
    "\n",
    "    for column in columns:\n",
    "        cursor.execute(f\"\"\"\n",
    "                    INSERT INTO {v_table_name} (oid, key, value)\n",
    "                    SELECT oid, '{column}', {column}\n",
    "                    FROM {table_name}\n",
    "                    WHERE {column} IS NOT NULL\n",
    "                    ORDER BY oid ASC;\n",
    "                \"\"\")\n",
    "    conn.commit()\n",
    "    "
   ]
  },
  {
   "cell_type": "code",
   "execution_count": 4,
   "metadata": {},
   "outputs": [],
   "source": [
    "h2v(cursor, \"h\", \"v\")\n",
    "\n"
   ]
  },
  {
   "cell_type": "code",
   "execution_count": 5,
   "metadata": {},
   "outputs": [],
   "source": [
    "def v2h(cursor, v_table_name, h_view_name, stop):\n",
    "    cursor.execute(f\"DROP TABLE IF EXISTS {h_view_name}\")\n",
    "\n",
    "    select_statements = \",\\n \".join([f\"v{i}.value AS a{i}\" for i in range(1, stop)])\n",
    "    join_statement = \"\\n \".join(f\"LEFT JOIN {v_table_name} AS v{i} ON base.oid = v{i}.oid AND v{i}.key = 'a{i}'\" for i in range(1, stop)) \n",
    "    cursor.execute(f\"\"\"\n",
    "                CREATE VIEW {h_view_name} AS\n",
    "                SELECT base.oid, {select_statements}\n",
    "                FROM (SELECT DISTINCT oid FROM {v_table_name}) AS base\n",
    "                {join_statement};\n",
    "            \"\"\")\n",
    "    conn.commit()"
   ]
  },
  {
   "cell_type": "code",
   "execution_count": 6,
   "metadata": {},
   "outputs": [],
   "source": [
    "v2h(cursor, \"v\", \"h_transform\", 6)\n"
   ]
  },
  {
   "cell_type": "code",
   "execution_count": null,
   "metadata": {},
   "outputs": [],
   "source": [
    "def benchmark(cursor, h_view_name, num_queries=1000):\n",
    "    cursor.execute(f\"SELECT COUNT(*) FROM information_schema.columns WHERE table_name = '{h_view_name}';\")\n",
    "    attr_anz = cursor.fetchone()[0]-1\n",
    "\n",
    "    start_time = time.time()\n",
    "    for _ in range(num_queries):\n",
    "        query_type = random.choice([\"single_oid\", \"attribute_query\"])\n",
    "\n",
    "        if query_type == \"single_oid\":\n",
    "            oid = random.randint(1, 10000)\n",
    "            cursor.execute(f\"SELECT * FROM {h_view_name} WHERE oid = {oid};\")\n",
    "        else:\n",
    "            attr_num = random.randint(1, attr_anz) \n",
    "            if attr_num % 2 == 0:\n",
    "                attr_val = random.randint(1, 100)\n",
    "            else:\n",
    "                attr_val = random.choice([\"a\", \"b\", \"c\"]) \n",
    "            cursor.execute(\n",
    "                f\"SELECT oid FROM {h_view_name} WHERE a{attr_num} = '{attr_val}';\"\n",
    "            )\n",
    "\n",
    "    elapsed_time = time.time() - start_time\n",
    "    print(f\"Executed {num_queries} queries in {elapsed_time:.2f} seconds\")"
   ]
  },
  {
   "cell_type": "code",
   "execution_count": 8,
   "metadata": {},
   "outputs": [
    {
     "name": "stdout",
     "output_type": "stream",
     "text": [
      "Executed 1000 queries in 0.25 seconds\n"
     ]
    }
   ],
   "source": [
    "benchmark(cursor, \"h\", 1000)"
   ]
  }
 ],
 "metadata": {
  "kernelspec": {
   "display_name": "Python 3",
   "language": "python",
   "name": "python3"
  },
  "language_info": {
   "codemirror_mode": {
    "name": "ipython",
    "version": 3
   },
   "file_extension": ".py",
   "mimetype": "text/x-python",
   "name": "python",
   "nbconvert_exporter": "python",
   "pygments_lexer": "ipython3",
   "version": "3.12.9"
  }
 },
 "nbformat": 4,
 "nbformat_minor": 2
}
