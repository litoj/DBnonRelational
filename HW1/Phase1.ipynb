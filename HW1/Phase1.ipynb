{
 "cells": [
  {
   "cell_type": "code",
   "execution_count": 1,
   "metadata": {},
   "outputs": [],
   "source": [
    "import psycopg2\n",
    "import random\n",
    "from collections import defaultdict\n"
   ]
  },
  {
   "cell_type": "code",
   "execution_count": 2,
   "metadata": {},
   "outputs": [],
   "source": [
    "def print_table(cursor, table_name):\n",
    "    cursor.execute(f\"SELECT * FROM {table_name}\")\n",
    "    rows = cursor.fetchall()\n",
    "    print(f\"Table {table_name}\")\n",
    "    for row in rows:\n",
    "        print(row)\n",
    "    print()"
   ]
  },
  {
   "cell_type": "code",
   "execution_count": 3,
   "metadata": {},
   "outputs": [
    {
     "name": "stdout",
     "output_type": "stream",
     "text": [
      "('PostgreSQL 16.3 on x86_64-redhat-linux-gnu, compiled by gcc (GCC) 14.1.1 20240701 (Red Hat 14.1.1-7), 64-bit',)\n"
     ]
    }
   ],
   "source": [
    "\n",
    "\n",
    "# a: Verbindung zur Datenbank herstellen\n",
    "try:\n",
    "    connection = psycopg2.connect(\n",
    "        dbname=\"Sparsity\", user=\"postgres\", password=\"\", host=\"localhost\", port=\"5432\"\n",
    "    )\n",
    "    cursor = connection.cursor()\n",
    "    cursor.execute(\"SELECT version();\")\n",
    "    print(cursor.fetchone())\n",
    "except (Exception, psycopg2.Error) as error:\n",
    "    print(\"Error while connecting to PostgreSQL\", error)"
   ]
  },
  {
   "cell_type": "code",
   "execution_count": 4,
   "metadata": {},
   "outputs": [],
   "source": [
    "# Tabellen löschen\n",
    "cursor.execute(\n",
    "    \"\"\"\n",
    "    DROP TABLE IF EXISTS H_toy CASCADE;\n",
    "    DROP TABLE IF EXISTS V_toy CASCADE;\n",
    "    DROP TABLE IF EXISTS V_toy_string CASCADE;\n",
    "    DROP TABLE IF EXISTS V_toy_int CASCADE;\n",
    "    DROP TABLE IF EXISTS H CASCADE;\n",
    "    DROP VIEW IF EXISTS h2v_toy CASCADE;\n",
    "    DROP VIEW IF EXISTS V_toy_all CASCADE;\n",
    "    DROP VIEW IF EXISTS H_non_null CASCADE;\n",
    "    DROP VIEW IF EXISTS H_null_count CASCADE;\n",
    "\"\"\"\n",
    ")\n",
    "connection.commit()\n"
   ]
  },
  {
   "cell_type": "code",
   "execution_count": 5,
   "metadata": {},
   "outputs": [
    {
     "name": "stdout",
     "output_type": "stream",
     "text": [
      "Table H_toy\n",
      "(1, 'a', 'b', None)\n",
      "(2, None, 'c', 2)\n",
      "(3, None, None, 3)\n",
      "(4, None, None, None)\n",
      "\n",
      "Table V_toy\n",
      "(11, 'a1', 'a')\n",
      "(12, 'a2', 'b')\n",
      "(21, 'a2', 'c')\n",
      "(22, 'a3', '2')\n",
      "(31, 'a3', '3')\n",
      "\n"
     ]
    }
   ],
   "source": [
    "\n",
    "# b: Tabelle H_toy erstellen und befüllen\n",
    "cursor.execute(\n",
    "    \"\"\"\n",
    "    CREATE TABLE IF NOT EXISTS H_toy (\n",
    "        oid SERIAL PRIMARY KEY,\n",
    "        a1 VARCHAR(50),\n",
    "        a2 VARCHAR(50),\n",
    "        a3 INTEGER\n",
    "    );\n",
    "\"\"\"\n",
    ")\n",
    "cursor.execute(\n",
    "    \"\"\"\n",
    "    INSERT INTO H_toy (a1, a2, a3) VALUES\n",
    "    ('a', 'b', NULL),\n",
    "    (NULL, 'c', 2),\n",
    "    (NULL, NULL, 3),\n",
    "    (NULL, NULL, NULL);\n",
    "\"\"\"\n",
    ")\n",
    "connection.commit()\n",
    "\n",
    "# Vertikale Darstellung V_toy erstellen\n",
    "cursor.execute(\n",
    "    \"\"\"\n",
    "    CREATE TABLE IF NOT EXISTS V_toy (\n",
    "        oid SERIAL PRIMARY KEY,\n",
    "        key VARCHAR(50),\n",
    "        val VARCHAR(50)\n",
    "    );\n",
    "\"\"\"\n",
    ")\n",
    "cursor.execute(\n",
    "    \"\"\"\n",
    "    INSERT INTO V_toy (oid, key, val) VALUES\n",
    "    (11, 'a1', 'a'),\n",
    "    (12, 'a2', 'b'),\n",
    "    (21, 'a2', 'c'),\n",
    "    (22, 'a3', '2'),\n",
    "    (31, 'a3', '3');\n",
    "\"\"\"\n",
    ")\n",
    "connection.commit()\n",
    "\n",
    "print_table(cursor, \"H_toy\")\n",
    "print_table(cursor, \"V_toy\")"
   ]
  },
  {
   "cell_type": "code",
   "execution_count": 6,
   "metadata": {},
   "outputs": [
    {
     "name": "stdout",
     "output_type": "stream",
     "text": [
      "Table h2v_toy\n",
      "(22, None, None, '2')\n",
      "(31, None, None, '3')\n",
      "(11, 'a', None, None)\n",
      "(21, None, 'c', None)\n",
      "(12, None, 'b', None)\n",
      "\n"
     ]
    }
   ],
   "source": [
    "\n",
    "# Sicht h2v_toy erstellen\n",
    "cursor.execute(\n",
    "    \"\"\"\n",
    "    CREATE VIEW h2v_toy AS\n",
    "    SELECT \n",
    "        base.oid AS oid,\n",
    "        v1.val AS a1,\n",
    "        v2.val AS a2,\n",
    "        v3.val AS a3\n",
    "    FROM \n",
    "        (SELECT DISTINCT oid FROM V_toy) AS base\n",
    "    LEFT JOIN \n",
    "        V_toy AS v1 ON base.oid = v1.oid AND v1.key = 'a1'\n",
    "    LEFT JOIN \n",
    "        V_toy AS v2 ON base.oid = v2.oid AND v2.key = 'a2'\n",
    "    LEFT JOIN \n",
    "        V_toy AS v3 ON base.oid = v3.oid AND v3.key = 'a3';\n",
    "\"\"\"\n",
    ")\n",
    "connection.commit()\n",
    "\n",
    "print_table(cursor, \"h2v_toy\")"
   ]
  },
  {
   "cell_type": "code",
   "execution_count": 7,
   "metadata": {},
   "outputs": [
    {
     "name": "stdout",
     "output_type": "stream",
     "text": [
      "Table V_toy_string\n",
      "(1, 'a1', 'a')\n",
      "(1, 'a2', 'b')\n",
      "(2, 'a2', 'c')\n",
      "\n",
      "Table V_toy_int\n",
      "(2, 'a3', 2)\n",
      "(3, 'a3', 3)\n",
      "\n"
     ]
    }
   ],
   "source": [
    "\n",
    "# Partitionen erstellen\n",
    "cursor.execute(\n",
    "    \"\"\"\n",
    "    CREATE TABLE IF NOT EXISTS V_toy_string (\n",
    "        oid INTEGER,\n",
    "        key VARCHAR(50),\n",
    "        val VARCHAR(50)\n",
    "    );\n",
    "\"\"\"\n",
    ")\n",
    "cursor.execute(\n",
    "    \"\"\"\n",
    "    CREATE TABLE IF NOT EXISTS V_toy_int (\n",
    "        oid INTEGER,\n",
    "        key VARCHAR(50),\n",
    "        val INTEGER\n",
    "    );\n",
    "\"\"\"\n",
    ")\n",
    "connection.commit()\n",
    "\n",
    "# Daten in Partitionen einfügen\n",
    "cursor.execute(\n",
    "    \"\"\"\n",
    "    INSERT INTO V_toy_string (oid, key, val) VALUES\n",
    "    (1, 'a1', 'a'),\n",
    "    (1, 'a2', 'b'),\n",
    "    (2, 'a2', 'c');\n",
    "\"\"\"\n",
    ")\n",
    "cursor.execute(\n",
    "    \"\"\"\n",
    "    INSERT INTO V_toy_int (oid, key, val) VALUES\n",
    "    (2, 'a3', 2),\n",
    "    (3, 'a3', 3);\n",
    "\"\"\"\n",
    ")\n",
    "connection.commit()\n",
    "\n",
    "print_table(cursor, \"V_toy_string\")\n",
    "print_table(cursor, \"V_toy_int\")"
   ]
  },
  {
   "cell_type": "code",
   "execution_count": 8,
   "metadata": {},
   "outputs": [
    {
     "name": "stdout",
     "output_type": "stream",
     "text": [
      "Table V_toy_all\n",
      "(1, 'a1', 'a')\n",
      "(1, 'a2', 'b')\n",
      "(2, 'a2', 'c')\n",
      "(2, 'a3', '2')\n",
      "(3, 'a3', '3')\n",
      "\n"
     ]
    }
   ],
   "source": [
    "\n",
    "# Sicht V_toy_all erstellen\n",
    "cursor.execute(\n",
    "    \"\"\"\n",
    "    CREATE VIEW V_toy_all AS\n",
    "    SELECT oid, key, val::VARCHAR(50) AS val FROM V_toy_string\n",
    "    UNION ALL\n",
    "    SELECT oid, key, val::VARCHAR(50) FROM V_toy_int;\n",
    "\"\"\"\n",
    ")\n",
    "connection.commit()\n",
    "\n",
    "print_table(cursor, \"V_toy_all\")"
   ]
  },
  {
   "cell_type": "code",
   "execution_count": 9,
   "metadata": {},
   "outputs": [],
   "source": [
    "\n",
    "# c: Korrigierte Funktion generate()\n",
    "def generate(num_tuples, sparsity, num_attributes):\n",
    "    try:\n",
    "        # Alte Tabelle löschen, falls vorhanden\n",
    "        cursor.execute(\"DROP TABLE IF EXISTS H;\")\n",
    "\n",
    "        # Tabelle H erstellen\n",
    "        columns = [\"oid SERIAL PRIMARY KEY\"]\n",
    "        for i in range(1, num_attributes + 1):\n",
    "            if i % 2 == 0:\n",
    "                columns.append(f\"a{i} INTEGER\")\n",
    "            else:\n",
    "                columns.append(f\"a{i} VARCHAR(50)\")\n",
    "        create_table_query = f\"CREATE TABLE H ({', '.join(columns)});\"\n",
    "        cursor.execute(create_table_query)\n",
    "\n",
    "        # Begrenzung für Attributwerte (maximal 5-mal vorkommen)\n",
    "        value_counts = defaultdict(int)\n",
    "        allowed_values = [\"a\", \"b\", \"c\"]\n",
    "\n",
    "        # Daten einfügen\n",
    "        for oid in range(1, num_tuples + 1):\n",
    "            values = []\n",
    "            for i in range(1, num_attributes + 1):\n",
    "                if random.random() < sparsity:\n",
    "                    values.append(\"NULL\")\n",
    "                else:\n",
    "                    if i % 2 == 0:\n",
    "                        values.append(str(random.randint(1, 100)))\n",
    "                    else:\n",
    "                        # Begrenzung auf max. 5 Vorkommen pro Wert\n",
    "                        valid_choices = [\n",
    "                            v for v in allowed_values if value_counts[v] < 5\n",
    "                        ]\n",
    "                        if valid_choices:\n",
    "                            chosen_value = random.choice(valid_choices)\n",
    "                            values.append(f\"'{chosen_value}'\")\n",
    "                            value_counts[chosen_value] += 1\n",
    "                        else:\n",
    "                            values.append(\"NULL\")\n",
    "            insert_query = f\"INSERT INTO H ({', '.join([f'a{i}' for i in range(1, num_attributes + 1)] )}) VALUES ({', '.join(values)});\"\n",
    "            cursor.execute(insert_query)\n",
    "\n",
    "        connection.commit()\n",
    "        print(\n",
    "            f\"Tabelle H mit {num_tuples} Tupeln und {num_attributes} Attributen erstellt.\"\n",
    "        )\n",
    "    except (Exception, psycopg2.Error) as error:\n",
    "        print(\"Fehler in generate():\", error)\n"
   ]
  },
  {
   "cell_type": "code",
   "execution_count": 10,
   "metadata": {},
   "outputs": [
    {
     "name": "stdout",
     "output_type": "stream",
     "text": [
      "Tabelle H mit 10 Tupeln und 5 Attributen erstellt.\n",
      "Table H\n",
      "(1, 'c', 3, 'c', 46, 'b')\n",
      "(2, None, None, 'c', 49, None)\n",
      "(3, 'b', 97, 'c', None, 'b')\n",
      "(4, 'a', 90, 'a', 91, 'a')\n",
      "(5, None, 58, 'b', 73, None)\n",
      "(6, 'b', 17, None, 82, 'c')\n",
      "(7, 'a', 96, 'a', None, None)\n",
      "(8, None, 54, None, None, None)\n",
      "(9, None, 92, None, None, None)\n",
      "(10, None, 85, None, None, None)\n",
      "\n",
      "Table H_null_count\n",
      "(8,)\n",
      "\n"
     ]
    }
   ],
   "source": [
    "\n",
    "\n",
    "# Beispielaufruf der Funktion generate()\n",
    "generate(num_tuples=10, sparsity=0.3, num_attributes=5)\n",
    "\n",
    "# Zusätzliche Sichten zur Prüfung der Korrektheit erstellen\n",
    "# Vorhandene Sichten löschen, falls sie existieren\n",
    "cursor.execute(\"DROP VIEW IF EXISTS H_non_null;\")\n",
    "cursor.execute(\"DROP VIEW IF EXISTS H_null_count;\")\n",
    "connection.commit()\n",
    "\n",
    "# Sichten zur Überprüfung der Korrektheit erstellen\n",
    "cursor.execute(\n",
    "    \"\"\"\n",
    "    CREATE VIEW H_null_count AS\n",
    "    SELECT COUNT(*) FROM H WHERE a1 IS NULL OR a2 IS NULL OR a3 IS NULL OR a4 IS NULL OR a5 IS NULL;\n",
    "\"\"\"\n",
    ")\n",
    "connection.commit()\n",
    "\n",
    "print_table(cursor, \"H\")\n",
    "print_table(cursor, \"H_null_count\")\n",
    "\n"
   ]
  }
 ],
 "metadata": {
  "kernelspec": {
   "display_name": "venv",
   "language": "python",
   "name": "python3"
  },
  "language_info": {
   "codemirror_mode": {
    "name": "ipython",
    "version": 3
   },
   "file_extension": ".py",
   "mimetype": "text/x-python",
   "name": "python",
   "nbconvert_exporter": "python",
   "pygments_lexer": "ipython3",
   "version": "3.12.9"
  }
 },
 "nbformat": 4,
 "nbformat_minor": 2
}
